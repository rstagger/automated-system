{
  "nbformat": 4,
  "nbformat_minor": 0,
  "metadata": {
    "colab": {
      "provenance": [],
      "include_colab_link": true
    },
    "kernelspec": {
      "name": "python3",
      "display_name": "Python 3"
    },
    "language_info": {
      "name": "python"
    }
  },
  "cells": [
    {
      "cell_type": "markdown",
      "metadata": {
        "id": "view-in-github",
        "colab_type": "text"
      },
      "source": [
        "<a href=\"https://colab.research.google.com/github/anandamreza/REZA_23_235150300111029/blob/main/SISTEM_OTOMASI_MODUL_MOTOR_DC.ipynb\" target=\"_parent\"><img src=\"https://colab.research.google.com/assets/colab-badge.svg\" alt=\"Open In Colab\"/></a>"
      ]
    },
    {
      "cell_type": "markdown",
      "source": [
        "#Pemodelan Motor DC\n",
        "\n",
        "![Alt text](https://www.mathworks.com/help/examples/control/win64/xxDCMotorImage.png)\n",
        "\n",
        "Pemahaman Video\n",
        "(https://www.youtube.com/watch?v=CWulQ1ZSE3c)\n",
        "\n",
        "Motor DC dapat dimodelkan dengan dua persamaan utama yang menggambarkan dynamics (dinamika) dari sistem listrik dan mekanik motor. Persamaan ini diperoleh berdasarkan Hukum Kedua Newton untuk Rotasi dan Hukum Tegangan Kirchhoff (KVL).\n",
        "\n",
        "## Persamaan Dinamiika Listrik-Kirchoff Voltage Law\n",
        "Persamaan ini diperoleh dari Hukum Tegangan Kirchhoff (KVL), yang menyatakan bahwa jumlah tegangan di sekitar suatu loop tertutup harus sama dengan nol.\n",
        "Dengan menggunakan KVL dalam loop listrik:\n",
        "\n",
        "$$\n",
        "V = L \\frac{di}{dt} + R i + e_b\n",
        "$$\n",
        "\n",
        "$𝑉=$Applied voltage\n",
        "$L=$ Armature inductance\n",
        "$R=$ Armature resistance\n",
        "$i=$ Armature current\n",
        "$𝑒_𝑏=$ Back electromotive force (EMF)\n",
        "\n",
        "Back EMF ($𝑒_𝑏$​) adalah tegangan balik yang dihasilkan oleh motor saat berputar, dan nilainya berbanding lurus dengan kecepatan sudut ($𝜔$). Secara matematis, hubungan ini dinyatakan sebagai:\n",
        "$$𝑒_𝑏=𝐾_𝑒\\frac{𝑑𝜃}{𝑑𝑡}$$\n",
        "$$𝜔=\\frac{𝑑𝜃}{𝑑𝑡}$$\n",
        "$𝐾_𝑒=$konstanta back EMF, biasanya dalam satuan V·s/rad\n",
        "$\\frac{𝑑𝜃}{𝑑𝑡}$ adalah kecepatan sudut (rad/s) dari poros motor.\n",
        "\n",
        "Semakin cepat motor berputar, semakin besar tegangan back EMF yang dihasilkan. Sehingga persamaan menjadi\n",
        "\n",
        "$$𝑉=𝐿 𝑑𝑖/𝑑𝑡+𝑅𝑖+𝑒_𝑏$$\n",
        "\n",
        "$$𝐿\\frac{𝑑𝑖}{𝑑𝑡}+𝑅𝑖=𝑉−𝐾\\frac{𝑑𝜃}{𝑑𝑡}$$\n",
        "\n",
        "\n",
        "\n"
      ],
      "metadata": {
        "id": "zbfxVsyDX_oW"
      }
    },
    {
      "cell_type": "markdown",
      "source": [
        "## Persamaan Dinamika Mekanik (Hukum Kedua Newton untuk Rotasi)\n",
        "\n",
        "Persamaan ini diperoleh dari Hukum Kedua Newton untuk Rotasi, yang menyatakan bahwa total torsi ($T$) sama dengan perubahan momentum sudut:\n",
        "$$∑𝑇=𝐽\\ddot{𝜃}$$\n",
        "$J =$ Momen inersia rotor (kg·m²), menunjukkan seberapa sulit motor untuk berakselerasi.\\\n",
        "$\\ddot{𝜃}=$ Percepatan sudut motor (rad/s²).\n"
      ],
      "metadata": {
        "id": "YsuPHG-UcErP"
      }
    },
    {
      "cell_type": "markdown",
      "source": [
        "### Persamaan Mekanik -Persamaan Torsi Motor DC\n",
        "\n",
        "Torsi yang dihasilkan oleh motor adalah:\n",
        "\n",
        "$$𝑇=𝐾_𝑡 𝑖$$    (1)\n",
        "\n",
        "Persamaan ini menyatakan bahwa torsi ($𝑇$) yang dihasilkan oleh motor DC sebanding dengan arus armatur ($𝑖$) yang mengalir melalui belitan motor.\n",
        "$𝐾_𝑡$ adalah konstanta torsi motor\" (Nm/A) yang menyatakan seberapa besar torsi yang dihasilkan untuk setiap satuan arus yang mengalir. $𝑖$ adalah Arus armatur\n",
        "\n",
        "Torsi akibat gesekan dan beban $b\\dot{𝜃}$ adalah torsi hambatan akibat gesekan viskositas yang berbanding lurus dengan kecepatan sudut $\\ddot{𝜃}$\n",
        "\n",
        "Sehingga, total persamaan torsi menjadi:\n",
        "\n",
        "$$𝐽\\ddot{𝜃}+𝑏\\dot{𝜃}=𝐾𝑖$$\n",
        "\n",
        "Percepatan sudut ($𝐽\\ddot{𝜃}$)bergantung pada arus ($i$) yang diberikan ke motor.\n",
        "\n",
        "Gesekan viskositas ($𝑏\\dot{𝜃}$) memperlambat motor.\n",
        "\n"
      ],
      "metadata": {
        "id": "vwreq8RIbhFM"
      }
    },
    {
      "cell_type": "markdown",
      "source": [
        "## Persamaan yang didapat:\n",
        "\n",
        "$$𝐿\\dot{𝐼}+𝑅𝑖=𝑉−𝐾\\dot{𝜃}$$\n",
        "\n",
        "$$𝐽\\ddot{𝜃}+𝑏\\dot{𝜃}=𝐾𝑖$$\n",
        "\n",
        "\n",
        "\n"
      ],
      "metadata": {
        "id": "5nAvmx_DfXV1"
      }
    },
    {
      "cell_type": "markdown",
      "source": [
        "## Kode Python untuk Persamaan Motor DC"
      ],
      "metadata": {
        "id": "a-fdaszZo06_"
      }
    },
    {
      "cell_type": "code",
      "source": [
        "import sympy as sp\n",
        "\n",
        "# Define symbols\n",
        "L, R, V, K, theta, I, doti, J, b, s, t, omega, omegadot = sp.symbols('L, R, V, K, \\\\theta, I, \\\\dot{i}, J, b, s, t, omega,\\\\dot{\\\\omega}')\n",
        "\n",
        "dIdt = (sp.Function('I')(t).diff(t))\n",
        "dthetadt = (sp.Function('\\\\theta')(t).diff(t))\n",
        "#display(dIdt)\n",
        "\n",
        "#eq1 = L *dIdt + R * I - V + K * dthetadt  # Electrical equation\n",
        "#eq2 = J * dthetadt**2 + b * dthetadt + K * I  # Mechanical equation\n",
        "\n",
        "eq1 = L *doti + R * I - V + K * omega  # Electrical equation\n",
        "eq2 = J * omegadot + b * omega + K * I  # Mechanical equation\n",
        "\n",
        "display(eq1)\n",
        "display(eq2)"
      ],
      "metadata": {
        "colab": {
          "base_uri": "https://localhost:8080/",
          "height": 59
        },
        "id": "GhHvvEBp-Yvo",
        "outputId": "fc15f488-87d7-4cbe-f578-eb204cd9d22c"
      },
      "execution_count": null,
      "outputs": [
        {
          "output_type": "display_data",
          "data": {
            "text/plain": [
              "I*R + K*omega + L*\\dot{i} - V"
            ],
            "text/latex": "$\\displaystyle I R + K \\omega + L \\dot{i} - V$"
          },
          "metadata": {}
        },
        {
          "output_type": "display_data",
          "data": {
            "text/plain": [
              "I*K + J*\\dot{\\omega} + b*omega"
            ],
            "text/latex": "$\\displaystyle I K + J \\dot{\\omega} + b \\omega$"
          },
          "metadata": {}
        }
      ]
    },
    {
      "cell_type": "markdown",
      "source": [
        "#Transformasi Laplace#\n",
        "## **Persamaan Awal**\n",
        "Persamaan diferensial yang akan kita ubah ke bentuk Laplace:\n",
        "\n",
        "$$\n",
        "L \\dot{I} + R I = V - K \\dot{\\theta}\n",
        "$$\n",
        "\n",
        "Di mana:\n",
        "- \\( L \\) = Induktansi armatur motor (H)\n",
        "- \\( R \\) = Resistansi armatur motor (Ω)\n",
        "- \\( I \\) = Arus armatur (A)\n",
        "- \\( V \\) = Tegangan armatur (V)\n",
        "- \\( K \\) = Konstanta motor\n",
        "- \\( $\\dot{\\theta}$ \\) = Kecepatan sudut motor (rad/s)\n",
        "\n",
        "---\n",
        "\n",
        "## **Langkah 1: Terapkan Transformasi Laplace pada Setiap Variabel**\n",
        "Transformasi Laplace membantu kita mengubah persamaan diferensial menjadi bentuk aljabar dengan variabel \\( s \\).\n",
        "\n",
        "### **Transformasi Laplace untuk Persamaan Listrik**\n",
        "Dalam **Laplace Transform**, aturan untuk turunan pertama suatu fungsi \\( f(t) \\) adalah:\n",
        "\n",
        "$$\n",
        "\\mathcal{L} \\left[ \\frac{df}{dt} \\right] = s F(s) - f(0)\n",
        "$$\n",
        "\n",
        "Kita terapkan ini pada setiap variabel:\n",
        "\n",
        "1. **Arus \\( I(t) \\)**\n",
        "   $$\n",
        "   \\mathcal{L} [\\dot{I}(t)] = s I(s) - I(0)\n",
        "   $$\n",
        "   (Di mana \\( I(0) \\) adalah kondisi awal arus, biasanya dianggap nol dalam kasus steady-state)\n",
        "\n",
        "2. **Kecepatan Sudut \\( $\\dot{\\theta}(t)$ \\)**\n",
        "   $$\n",
        "   \\mathcal{L} [\\dot{\\theta}(t)] = s \\Theta(s) - \\Theta(0)\n",
        "   $$\n",
        "   (Di mana \\( $\\Theta(0)$ \\) adalah kondisi awal posisi sudut)\n",
        "\n",
        "3. **Tegangan dan Arus Tanpa Turunan**\n",
        "   - Karena \\( V(t) \\) dan \\( I(t) \\) **tanpa turunan**, transformasi Laplace-nya hanya:\n",
        "     $$\n",
        "     \\mathcal{L} [I(t)] = I(s), \\quad \\mathcal{L} [V(t)] = V(s)\n",
        "     $$\n",
        "\n",
        "---\n",
        "\n",
        "## **Langkah 2: Substitusi ke dalam Persamaan**\n",
        "Sekarang kita terapkan hasil transformasi Laplace ke dalam persamaan awal:\n",
        "\n",
        "$$\n",
        "L \\dot{I} + R I = V - K \\dot{\\theta}\n",
        "$$\n",
        "\n",
        "Menjadi:\n",
        "\n",
        "$$\n",
        "L (s I(s) - I(0)) + R I(s) = V(s) - K (s \\Theta(s) - \\Theta(0))\n",
        "$$\n",
        "\n",
        "---\n",
        "\n",
        "## **Langkah 3: Sederhanakan**\n",
        "Jika kondisi awal dianggap nol (\\( I(0) = 0 \\), \\( $\\Theta(0)$ = 0 \\)), maka persamaan menjadi:\n",
        "\n",
        "$$\n",
        "L s I(s) + R I(s) = V(s) - K s \\Theta(s)\n",
        "$$\n",
        "\n",
        "Atau dengan memfaktorkan \\( I(s) \\):\n",
        "\n",
        "$$\n",
        "(Ls + R) I(s) = V(s) - K s \\Theta(s)\n",
        "$$\n",
        "\n",
        "---\n",
        "\n",
        "## **Kesimpulan**\n",
        "Jadi, persamaan dalam bentuk **Laplace Transform** adalah:\n",
        "\n",
        "$$\n",
        "(Ls + R) I(s) = V(s) - K s \\Theta(s)\n",
        "$$\n",
        "\n",
        "Dengan bentuk ini, kita bisa dengan mudah menghubungkan variabel-variabel listrik dan mekanik untuk analisis kontrol atau mencari **fungsi alih (transfer function)**.\n"
      ],
      "metadata": {
        "id": "wHTYkNA3hWyV"
      }
    },
    {
      "cell_type": "markdown",
      "source": [
        "## **Transformasi Laplace untuk Persamaan Mekanik**\n",
        "\n",
        "Persamaan diferensial untuk dinamika rotasi:\n",
        "\n",
        "$$\n",
        "J \\ddot{\\theta} + b \\dot{\\theta} = K i\n",
        "$$\n",
        "\n",
        "Di mana:\n",
        "- \\( J \\) = Momen inersia rotor (kg·m²)\n",
        "- \\( b \\) = Koefisien gesekan (N·m·s/rad)\n",
        "- \\( $\\ddot{\\theta}$ \\) = Percepatan sudut (rad/s²)\n",
        "- \\( $\\dot{\\theta}$ \\) = Kecepatan sudut (rad/s)\n",
        "- \\( K \\) = Konstanta motor\n",
        "- \\( i \\) = Arus armatur (A)\n",
        "\n",
        "### **Langkah 1: Terapkan Transformasi Laplace**\n",
        "\n",
        "Transformasi Laplace untuk turunan kedua:\n",
        "\n",
        "$$\n",
        "\\mathcal{L} [\\ddot{\\theta}(t)] = s^2 \\Theta(s) - s \\Theta(0) - \\dot{\\Theta}(0)\n",
        "$$\n",
        "\n",
        "Transformasi Laplace untuk turunan pertama:\n",
        "\n",
        "$$\n",
        "\\mathcal{L} [\\dot{\\theta}(t)] = s \\Theta(s) - \\Theta(0)\n",
        "$$\n",
        "\n",
        "### **Langkah 2: Substitusi ke dalam Persamaan**\n",
        "\n",
        "Dengan menganggap kondisi awal nol (\\( \\Theta(0) = 0 \\), \\( \\dot{\\Theta}(0) = 0 \\)):\n",
        "\n",
        "$$\n",
        "J (s^2 \\Theta(s)) + b (s \\Theta(s)) = K I(s)\n",
        "$$\n",
        "\n",
        "Faktorkan \\( \\Theta(s) \\):\n",
        "\n",
        "$$\n",
        "(Js^2 + b s) \\Theta(s) = K I(s)\n",
        "$$\n",
        "\n",
        "---\n",
        "\n",
        "## **Kesimpulan**\n",
        "\n",
        "Jadi, persamaan dalam bentuk **Laplace Transform** untuk sistem mekanik adalah:\n",
        "\n",
        "$$\n",
        "(Js^2 + b s) \\Theta(s) = K I(s)\n",
        "$$\n",
        "\n",
        "Dengan bentuk ini, kita bisa dengan mudah menghubungkan variabel-variabel listrik dan mekanik untuk analisis kontrol atau mencari **fungsi alih (transfer function)**.\n"
      ],
      "metadata": {
        "id": "WB5R-uA4kVON"
      }
    },
    {
      "cell_type": "markdown",
      "source": [
        "##Kode Python - Transformasi Laplace"
      ],
      "metadata": {
        "id": "BvILy3F9pDoA"
      }
    },
    {
      "cell_type": "code",
      "source": [
        "laplace_expr = sp.laplace_transform(eq1, t, s, noconds=True)\n",
        "laplace_expr2 = sp.laplace_transform(eq2, t, s, noconds=True)\n",
        "display(laplace_expr.simplify())\n",
        "display(laplace_expr2.simplify())"
      ],
      "metadata": {
        "colab": {
          "base_uri": "https://localhost:8080/",
          "height": 102
        },
        "id": "0s6o8sM0pKNO",
        "outputId": "d24eeecc-b347-4e31-9cd6-b7a96b700a2e"
      },
      "execution_count": null,
      "outputs": [
        {
          "output_type": "display_data",
          "data": {
            "text/plain": [
              "(I*R - V + s*(K*(s*LaplaceTransform(\\theta(t), t, s) - \\theta(0)) + L*(s*LaplaceTransform(I(t), t, s) - I(0))))/s"
            ],
            "text/latex": "$\\displaystyle \\frac{I R - V + s \\left(K \\left(s \\mathcal{L}_{t}\\left[\\theta{\\left(t \\right)}\\right]\\left(s\\right) - \\theta{\\left(0 \\right)}\\right) + L \\left(s \\mathcal{L}_{t}\\left[I{\\left(t \\right)}\\right]\\left(s\\right) - I{\\left(0 \\right)}\\right)\\right)}{s}$"
          },
          "metadata": {}
        },
        {
          "output_type": "display_data",
          "data": {
            "text/plain": [
              "(I*K + s*(J*LaplaceTransform(Derivative(\\theta(t), t)**2, t, s) + b*(s*LaplaceTransform(\\theta(t), t, s) - \\theta(0))))/s"
            ],
            "text/latex": "$\\displaystyle \\frac{I K + s \\left(J \\mathcal{L}_{t}\\left[\\left(\\frac{d}{d t} \\theta{\\left(t \\right)}\\right)^{2}\\right]\\left(s\\right) + b \\left(s \\mathcal{L}_{t}\\left[\\theta{\\left(t \\right)}\\right]\\left(s\\right) - \\theta{\\left(0 \\right)}\\right)\\right)}{s}$"
          },
          "metadata": {}
        }
      ]
    },
    {
      "cell_type": "markdown",
      "source": [
        "##Fungsi Alih - Transfer Function\n",
        "\n",
        "Transfer function adalah cara untuk melihat bagaimana suatu sistem merespons input dan menghasilkan output.\n",
        "\n",
        "Dalam kasus motor listrik, kita ingin mengetahui bagaimana tegangan listrik ($𝑉$) yang diberikan mempengaruhi kecepatan putaran motor ($𝜃$)\n",
        "\n",
        "..To Be Continued\n"
      ],
      "metadata": {
        "id": "gAIZbrpVgeTe"
      }
    },
    {
      "cell_type": "code",
      "source": [
        "display(eq1)\n",
        "display(eq2)"
      ],
      "metadata": {
        "id": "lv452OwhbcxJ",
        "colab": {
          "base_uri": "https://localhost:8080/",
          "height": 59
        },
        "outputId": "dc8d06ff-0491-4320-ce0c-ef99b090be56"
      },
      "execution_count": null,
      "outputs": [
        {
          "output_type": "display_data",
          "data": {
            "text/plain": [
              "I*R + K*omega + L*\\dot{i} - V"
            ],
            "text/latex": "$\\displaystyle I R + K \\omega + L \\dot{i} - V$"
          },
          "metadata": {}
        },
        {
          "output_type": "display_data",
          "data": {
            "text/plain": [
              "I*K + J*\\dot{\\omega} + b*omega"
            ],
            "text/latex": "$\\displaystyle I K + J \\dot{\\omega} + b \\omega$"
          },
          "metadata": {}
        }
      ]
    },
    {
      "cell_type": "markdown",
      "source": [
        "## Kode untuk mencari solusi $\\dot{\\omega}$ dan $\\dot{i}$"
      ],
      "metadata": {
        "id": "bK7y0sNk7a-2"
      }
    },
    {
      "cell_type": "code",
      "source": [
        "#display(dIdt)\n",
        "#display(dthetadt)\n",
        "sol = sp.solve((eq1,eq2),(doti,omegadot),Dict=True)\n",
        "#print(sol)\n",
        "display(sol[doti])\n",
        "display(sol[omegadot])"
      ],
      "metadata": {
        "colab": {
          "base_uri": "https://localhost:8080/",
          "height": 87
        },
        "id": "rN4geUcoeSzX",
        "outputId": "ae9b681f-6451-459a-a319-5b2ce46fe580"
      },
      "execution_count": null,
      "outputs": [
        {
          "output_type": "display_data",
          "data": {
            "text/plain": [
              "(-I*R - K*omega + V)/L"
            ],
            "text/latex": "$\\displaystyle \\frac{- I R - K \\omega + V}{L}$"
          },
          "metadata": {}
        },
        {
          "output_type": "display_data",
          "data": {
            "text/plain": [
              "(-I*K - b*omega)/J"
            ],
            "text/latex": "$\\displaystyle \\frac{- I K - b \\omega}{J}$"
          },
          "metadata": {}
        }
      ]
    },
    {
      "cell_type": "markdown",
      "source": [
        "## Solusi untuk mengambil koefisien $\\omega$ dan $I$ dan $V$ untuk mendapatkan matrix $A$, dan $B$ pada persamaan state space"
      ],
      "metadata": {
        "id": "N5VGD8qg7qlV"
      }
    },
    {
      "cell_type": "code",
      "source": [
        "baris1 = sp.poly(sol[doti],(I,omega,V)).as_dict()\n",
        "baris2 = sp.poly(sol[omegadot],(I,omega,V)).as_dict()\n",
        "print(baris1)\n",
        "print(baris2)\n",
        "#print(baris2[0,0,0])"
      ],
      "metadata": {
        "id": "apQEFYb1aK5d",
        "colab": {
          "base_uri": "https://localhost:8080/"
        },
        "outputId": "1a41991c-5799-4f89-d0de-aa21e844d048"
      },
      "execution_count": null,
      "outputs": [
        {
          "output_type": "stream",
          "name": "stdout",
          "text": [
            "{(0, 0, 1): 1/L, (0, 1, 0): -K/L, (1, 0, 0): -R/L}\n",
            "{(0, 1, 0): -b/J, (1, 0, 0): -K/J}\n"
          ]
        }
      ]
    },
    {
      "cell_type": "markdown",
      "source": [
        "## Solusi dalam membuat matrix A dan B"
      ],
      "metadata": {
        "id": "Q1S6YBaI79YK"
      }
    },
    {
      "cell_type": "code",
      "source": [
        "A_Row_1 = (baris1[1,0,0],baris1[0,1,0])\n",
        "A_Row_2 = (baris2[1,0,0],baris2[0,1,0])\n",
        "A  = sp.Matrix([A_Row_1,A_Row_2])\n",
        "display(A)\n",
        "B_Row_1 = (baris1[0,0,1])\n",
        "B_Row_2 = (0)\n",
        "B = sp.Matrix([B_Row_1,B_Row_2])\n",
        "display(B)"
      ],
      "metadata": {
        "colab": {
          "base_uri": "https://localhost:8080/",
          "height": 100
        },
        "id": "CoaWfwCG3mdx",
        "outputId": "63cdd125-655d-496a-a431-e20a876a03f3"
      },
      "execution_count": null,
      "outputs": [
        {
          "output_type": "display_data",
          "data": {
            "text/plain": [
              "Matrix([\n",
              "[-R/L, -K/L],\n",
              "[-K/J, -b/J]])"
            ],
            "text/latex": "$\\displaystyle \\left[\\begin{matrix}- \\frac{R}{L} & - \\frac{K}{L}\\\\- \\frac{K}{J} & - \\frac{b}{J}\\end{matrix}\\right]$"
          },
          "metadata": {}
        },
        {
          "output_type": "display_data",
          "data": {
            "text/plain": [
              "Matrix([\n",
              "[1/L],\n",
              "[  0]])"
            ],
            "text/latex": "$\\displaystyle \\left[\\begin{matrix}\\frac{1}{L}\\\\0\\end{matrix}\\right]$"
          },
          "metadata": {}
        }
      ]
    },
    {
      "cell_type": "code",
      "source": [],
      "metadata": {
        "id": "7PJpMg8Y_Fhu"
      },
      "execution_count": null,
      "outputs": []
    }
  ]
}