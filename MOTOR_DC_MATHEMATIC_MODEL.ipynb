{
  "nbformat": 4,
  "nbformat_minor": 0,
  "metadata": {
    "colab": {
      "provenance": []
    },
    "kernelspec": {
      "name": "python3",
      "display_name": "Python 3"
    },
    "language_info": {
      "name": "python"
    }
  },
  "cells": [
    {
      "cell_type": "code",
      "source": [
        "import sympy as sp\n",
        "\n",
        "# Definisi simbol\n",
        "t = sp.symbols('t')  # Waktu\n",
        "s = sp.symbols('s')  # Variabel Laplace\n",
        "V = sp.symbols('V')  # Tegangan input\n",
        "i = sp.Function('i')(t)  # Arus\n",
        "omega = sp.Function('omega')(t)  # Kecepatan sudut\n",
        "R = sp.symbols('R')  # Resistansi\n",
        "L = sp.symbols('L')  # Induktansi\n",
        "Ke = sp.symbols('K_e')  # Konstanta tegangan\n",
        "Kt = sp.symbols('K_t')  # Konstanta torsi\n",
        "J = sp.symbols('J')  # Momen inersia\n",
        "B = sp.symbols('B')  # Koefisien gesekan\n",
        "\n",
        "# Persamaan listrik: V = R*i + L*di/dt + Ke*omega\n",
        "eq_electric = sp.Eq(V, R*i + L*sp.diff(i, t) + Ke*omega)\n",
        "\n",
        "# Persamaan mekanik: J*dω/dt + B*ω = Kt*i\n",
        "eq_mechanical = sp.Eq(J*sp.diff(omega, t) + B*omega, Kt*i)\n",
        "\n",
        "# Transformasi Laplace (diasumsikan kondisi awal nol)\n",
        "def laplace_transform(eq):\n",
        "    # Mengganti turunan dengan perkalian s\n",
        "    eq = eq.replace(sp.diff(i, t), s*I)\n",
        "    eq = eq.replace(sp.diff(omega, t), s*Omega)\n",
        "    # Mengganti fungsi dengan transformasi Laplace\n",
        "    eq = eq.replace(i, I)\n",
        "    eq = eq.replace(omega, Omega)\n",
        "    eq = eq.replace(V, V_s)\n",
        "    return eq\n",
        "\n",
        "# Simbol untuk transformasi Laplace\n",
        "I = sp.symbols('I')  # Laplace transform dari i(t)\n",
        "Omega = sp.symbols('Omega')  # Laplace transform dari omega(t)\n",
        "V_s = sp.symbols('V_s')  # Laplace transform dari V(t)\n",
        "\n",
        "# Terapkan transformasi Laplace pada persamaan\n",
        "eq_electric_laplace = laplace_transform(eq_electric)\n",
        "eq_mechanical_laplace = laplace_transform(eq_mechanical)\n",
        "\n",
        "# Selesaikan persamaan untuk I dari persamaan mekanik\n",
        "I_from_mechanical = sp.solve(eq_mechanical_laplace, I)[0]\n",
        "\n",
        "# Substitusi I ke persamaan listrik\n",
        "eq_electric_substituted = eq_electric_laplace.subs(I, I_from_mechanical)\n",
        "\n",
        "# Selesaikan persamaan untuk Omega\n",
        "Omega_solution = sp.solve(eq_electric_substituted, Omega)[0]\n",
        "\n",
        "# Fungsi alih: Omega(s) / V(s)\n",
        "transfer_function = Omega_solution / V_s\n",
        "\n",
        "# Sederhanakan fungsi alih\n",
        "transfer_function_simplified = sp.simplify(transfer_function)\n",
        "\n",
        "# Output hasil\n",
        "print(\"Persamaan Listrik (Domain Laplace):\")\n",
        "sp.pprint(eq_electric_laplace)\n",
        "\n",
        "print(\"\\nPersamaan Mekanik (Domain Laplace):\")\n",
        "sp.pprint(eq_mechanical_laplace)\n",
        "\n",
        "print(\"\\nFungsi Alih Omega(s)/V(s):\")\n",
        "sp.pprint(transfer_function_simplified)"
      ],
      "metadata": {
        "colab": {
          "base_uri": "https://localhost:8080/"
        },
        "id": "gIgpOKZSEDof",
        "outputId": "c830da5c-7889-4873-b97e-3a5f47fc94a3"
      },
      "execution_count": 7,
      "outputs": [
        {
          "output_type": "stream",
          "name": "stdout",
          "text": [
            "Persamaan Listrik (Domain Laplace):\n",
            "Vₛ = I⋅L⋅s + I⋅R + Kₑ⋅Ω\n",
            "\n",
            "Persamaan Mekanik (Domain Laplace):\n",
            "B⋅Ω + J⋅Ω⋅s = I⋅Kₜ\n",
            "\n",
            "Fungsi Alih Omega(s)/V(s):\n",
            "                 Kₜ                 \n",
            "────────────────────────────────────\n",
            "                   2                \n",
            "B⋅L⋅s + B⋅R + J⋅L⋅s  + J⋅R⋅s + Kₑ⋅Kₜ\n"
          ]
        }
      ]
    }
  ]
}